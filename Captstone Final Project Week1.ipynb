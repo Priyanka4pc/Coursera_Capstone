{
 "cells": [
  {
   "cell_type": "markdown",
   "metadata": {},
   "source": [
    "# The Battle of Neighborhoods (Week 1)"
   ]
  },
  {
   "cell_type": "markdown",
   "metadata": {},
   "source": [
    "## Introduction"
   ]
  },
  {
   "cell_type": "markdown",
   "metadata": {},
   "source": [
    "This project helps to recommend a suitable place for opening an Italian restaurant."
   ]
  },
  {
   "cell_type": "markdown",
   "metadata": {},
   "source": [
    "We need to find places that will be best suited for opening an Italian restaurant in Delhi. Since there are lots of restaurants in Delhi, we will try to detect locations that are not already crowded with restaurants. "
   ]
  },
  {
   "cell_type": "markdown",
   "metadata": {},
   "source": [
    "We are also particularly interested in areas with no Italian restaurants in the vicinity. We will explore the neighborhoods and find the most suitable area suited for our restaurant based on the above criteria. The advantages of each area will be clearly expressed so that the best possible final location can be chosen by stakeholders."
   ]
  },
  {
   "cell_type": "markdown",
   "metadata": {},
   "source": [
    "## Data Description"
   ]
  },
  {
   "cell_type": "markdown",
   "metadata": {},
   "source": [
    "The data required for finding a suitable location for our restaurant will be data of places that are less crowded by Italian Restaurants. For this purpose, we need to collect this data on all the neighborhoods of New Delhi. Dataset used in this project is taken from Kaggle. (https://www.kaggle.com/shaswatd673/delhi-neighborhood-data)"
 "
   ]
  },
  {
   "cell_type": "markdown",
   "metadata": {},
   "source": [
    "Once we have collected all the data the places will be ranked on the basis of nearby venues that contribute to our target audience. Based on the definition of our problem, the factors that will influence our decision are:  1. Number of restaurants in a neighborhood      2. Number of Italian restaurants in a neighborhood"
   ]
  },
  {
   "cell_type": "markdown",
   "metadata": {},
   "source": [
    "Coordinates of the center of New Delhi, and of all the neighborhoods are obtained using Here API. The number of restaurants and their type and location in every neighborhood will be obtained using the Foursquare API."
   ]
  }
 ],
 "metadata": {
  "kernelspec": {
   "display_name": "Python 3",
   "language": "python",
   "name": "python3"
  },
  "language_info": {
   "codemirror_mode": {
    "name": "ipython",
    "version": 3
   },
   "file_extension": ".py",
   "mimetype": "text/x-python",
   "name": "python",
   "nbconvert_exporter": "python",
   "pygments_lexer": "ipython3",
   "version": "3.7.6"
  }
 },
 "nbformat": 4,
 "nbformat_minor": 4
}
