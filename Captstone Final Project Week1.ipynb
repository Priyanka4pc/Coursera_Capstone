{
 "cells": [
  {
   "cell_type": "markdown",
   "metadata": {},
   "source": [
    "# The Battle of Neighborhoods (Week 1)"
   ]
  },
  {
   "cell_type": "markdown",
   "metadata": {},
   "source": [
    "## Introduction"
   ]
  },
  {
   "cell_type": "markdown",
   "metadata": {},
   "source": [
    "This project helps to recommend a suitalbe place for opening a Gaming Centre. "
   ]
  },
  {
   "cell_type": "markdown",
   "metadata": {},
   "source": [
    "We need find places that will be great for opening a  VR gaming centre in New Delhi. So suitable places for opening a gaming centre are where we have a lot of people interested in gaming and areas where people visit oftenly. Most of the target audience will be in Age range 16 - 25. So we need to find places we have good number of these people"
   ]
  },
  {
   "cell_type": "markdown",
   "metadata": {},
   "source": [
    "Mostly college students will be interested in playing VR games. Other than that young office people might like to play in VR in their office breaks or maybe after office. Other than this places that have a lot of audience would also be suitable for the centre. If there are many people around the gaming center area then they might try something new they have never experienced."
   ]
  },
  {
   "cell_type": "markdown",
   "metadata": {},
   "source": [
    "## Data Description"
   ]
  },
  {
   "cell_type": "markdown",
   "metadata": {},
   "source": [
    "The data required for finding a suitable location for a restaurant will be data of places that have nearby schools, colleges, work places, cafes. For this purpose we need to collect this data on all the neighborhood of New Delhi."
   ]
  },
  {
   "cell_type": "markdown",
   "metadata": {},
   "source": [
    "Once we have collected all the data the places will be ranked on the basis of nearby venues that contribute to our target audience. The places that will have many colleges nearby will be best for a gaming center. After that places that have cafes and restaurants nearby will be favourable. Places with many schools can also contibute but only schools might not work that great as parents might not allow their children as they may get addicted to gaming or might have any other thoughts. Places with work offices will contribute and might have a lot of audience in their break hour but for the rest of the time it won't be a good idea. "
   ]
  },
  {
   "cell_type": "markdown",
   "metadata": {},
   "source": [
    "So according to these assumptions places with colleges will be best, and cafes, restaurants, schools and work offices will have their contribution "
   ]
  }
 ],
 "metadata": {
  "kernelspec": {
   "display_name": "Python 3",
   "language": "python",
   "name": "python3"
  },
  "language_info": {
   "codemirror_mode": {
    "name": "ipython",
    "version": 3
   },
   "file_extension": ".py",
   "mimetype": "text/x-python",
   "name": "python",
   "nbconvert_exporter": "python",
   "pygments_lexer": "ipython3",
   "version": "3.7.6"
  }
 },
 "nbformat": 4,
 "nbformat_minor": 4
}
